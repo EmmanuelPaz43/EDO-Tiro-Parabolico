{
  "nbformat": 4,
  "nbformat_minor": 0,
  "metadata": {
    "colab": {
      "name": "Movimiento de un Proyectil_Prueba.ipynb",
      "provenance": [],
      "collapsed_sections": [],
      "authorship_tag": "ABX9TyNlZuMOmGHKoLotarO3MCs0",
      "include_colab_link": true
    },
    "kernelspec": {
      "name": "python3",
      "display_name": "Python 3"
    },
    "language_info": {
      "name": "python"
    }
  },
  "cells": [
    {
      "cell_type": "markdown",
      "metadata": {
        "id": "view-in-github",
        "colab_type": "text"
      },
      "source": [
        "<a href=\"https://colab.research.google.com/github/EmmanuelPaz43/EDO-Tiro-Parabolico/blob/main/Movimiento_de_un_Proyectil_Prueba.ipynb\" target=\"_parent\"><img src=\"https://colab.research.google.com/assets/colab-badge.svg\" alt=\"Open In Colab\"/></a>"
      ]
    },
    {
      "cell_type": "code",
      "metadata": {
        "colab": {
          "base_uri": "https://localhost:8080/"
        },
        "id": "DZ3MCA9cN0HG",
        "outputId": "aedc426f-e05d-447d-8d14-3804784a4360"
      },
      "source": [
        "# Programa que permite calcular la ecuación diferencial ordinaria \n",
        "# para el Tiro Parabólico\n",
        "# Autor: Emmanuel Paz Córdova.\n",
        "# Fecha: Septiembre 29, 2021\n",
        "\n",
        "import matplotlib.pyplot as plt\n",
        "import numpy as np\n",
        "import math\n",
        "# Definimos la composición horizontal del vector posición \n",
        "def rx(r1x, v1x, t):\n",
        "  return r1x+v1x*t\n",
        "# Definimos la composición vertical del vector posición\n",
        "def ry(r1y, v1y, g, t):\n",
        "  return r1y+(v1y*t)-(g*t**2)/2\n",
        "# Definimos el módulo del vector posición\n",
        "def r(rx, ry):\n",
        "  return np.sqrt((rx(r1x, v1x, t)**2)+(ry(r1y, v1y, g, t)**2))\n",
        "# Definimos la composición horizontal del vector velocidad\n",
        "def vx(r1x, v1x, t):\n",
        "  return (rx(r1x, v1x, t+h)-rx(r1x, v1x, t))/h\n",
        "# Definimos la composición vertical del vector velocidad\n",
        "def vy(r1y, v1y, g, t):\n",
        "  return (ry(r1y, v1y, g, t+h)-ry(r1y, v1y, g, t))/h  \n",
        "# Definimos el módulo del vector velocidad\n",
        "def v(vx, vy):\n",
        "  return np.sqrt((vx(r1x, v1x, t)**2)+(vy(r1y, v1y, g, t)**2))\n",
        "# Definimos la composición horizontal del vector aceleración\n",
        "def ax(r1x, v1x, t):\n",
        "  return (vx(r1x, v1x, t+h)-vx(r1x, v1x, t))/h\n",
        "# Definimos la composición vertical del vector aceleración\n",
        "def ay(r1y, v1y, g, t):\n",
        "  return (vy(r1y, v1y, g, t+h)-vy(r1y, v1y, g, t))/h  \n",
        "# Definimos el módulo del vector aceleración\n",
        "def a(ax, ay):\n",
        "  return np.sqrt((ax(r1x, v1x, t)**2)+(ay(r1y, v1y, g, t)**2))\n",
        "# Pedimos los valores necesarios\n",
        "print(\"Ingrese el valor de la gravedad (en m/s^2): \")\n",
        "g=float(input())\n",
        "print(\"Ingrese la posición inicial en x (en m): \")\n",
        "r1x=float(input())\n",
        "print(\"Ingrese la posición inicial en y (en m): \")\n",
        "r1y=float(input())\n",
        "print(\"Ingrese el valor de la velocidad inicial en x (en m/s)\")\n",
        "v1x=float(input())\n",
        "print(\"Ingrese el valor de la velocidad inicial en y (en m/s)\")\n",
        "v1y=float(input())\n",
        "print(\"Ingrese el valor del tiempo (en s): \")\n",
        "t=float(input())  \n",
        "print(\"Ingrese el valor del incremento\")\n",
        "h=float(input())\n",
        "\n",
        "#Expresamos los resultados\n",
        "print(\"El vector de la posición en la componente x es: \", rx(r1x, v1x, t))\n",
        "print(\"El vector de posición en la componente y es: \", ry(r1y, v1y, g, t))\n",
        "print(\"El módulo del vector de la composición de rx y de ry es: \", r(rx, ry))\n",
        "\n",
        "print(\"El vector de la velocidad en la componente x es: \", vx(r1x, v1x, t))\n",
        "print(\"El vector de velocidad en la componente y es: \", vy(r1y, v1y, g, t))\n",
        "print(\"El módulo del vector de la composición de vx y de vy es: \", v(vx, vy))\n",
        "\n",
        "print(\"El vector de la aceleración en la componente x es: \", ax(r1x, v1x, t))\n",
        "print(\"El vector de aceleración en la componente y es: \", ay(r1y, v1y, g, t))\n",
        "print(\"El módulo del vector de la composición de ax y de ay es: \", a(ax, ay))\n"
      ],
      "execution_count": 6,
      "outputs": [
        {
          "output_type": "stream",
          "name": "stdout",
          "text": [
            "Ingrese el valor de la gravedad (en m/s^2): \n",
            "9.81\n",
            "Ingrese la posición inicial en x (en m): \n",
            "2\n",
            "Ingrese la posición inicial en y (en m): \n",
            "5\n",
            "Ingrese el valor de la velocidad inicial en x (en m/s)\n",
            "50\n",
            "Ingrese el valor de la velocidad inicial en y (en m/s)\n",
            "20\n",
            "Ingrese el valor del tiempo (en s): \n",
            "2\n",
            "Ingrese el valor del incremento\n",
            "0.000001\n",
            "El vector de la posición en la componente x es:  102.0\n",
            "El vector de posición en la componente y es:  25.38\n",
            "El módulo del vector de la composición de rx y de ry es:  105.11015364844634\n",
            "El vector de la velocidad en la componente x es:  50.00000000165983\n",
            "El vector de velocidad en la componente y es:  0.3799950967220411\n",
            "El módulo del vector de la composición de vx y de vy es:  50.001443943545425\n",
            "El vector de la aceleración en la componente x es:  0.014210854715202004\n",
            "El vector de aceleración en la componente y es:  -9.816147894525784\n",
            "El módulo del vector de la composición de ax y de ay es:  9.81615818106018\n"
          ]
        }
      ]
    }
  ]
}